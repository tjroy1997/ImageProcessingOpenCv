{
 "cells": [
  {
   "cell_type": "code",
   "execution_count": null,
   "id": "f3fd8f43",
   "metadata": {},
   "outputs": [],
   "source": []
  },
  {
   "cell_type": "code",
   "execution_count": 18,
   "id": "9c298f42",
   "metadata": {},
   "outputs": [],
   "source": [
    "import cv2\n",
    "import matplotlib.pyplot as plt"
   ]
  },
  {
   "cell_type": "code",
   "execution_count": 23,
   "id": "4250b54f",
   "metadata": {},
   "outputs": [],
   "source": [
    "pic=cv2.imread(\"cartoon.jpg\")"
   ]
  },
  {
   "cell_type": "code",
   "execution_count": 24,
   "id": "c1999410",
   "metadata": {},
   "outputs": [
    {
     "data": {
      "text/plain": [
       "True"
      ]
     },
     "execution_count": 24,
     "metadata": {},
     "output_type": "execute_result"
    }
   ],
   "source": [
    "RGB_pic = cv2.cvtColor(pic, cv2.COLOR_BGR2RGB) # Original picture.\n",
    "cv2.imwrite('RGB_pic.png', RGB_pic) # Save the above picture.\n",
    "gray_pic=cv2.cvtColor(pic, cv2.COLOR_BGR2GRAY) # Black and White picture\n",
    "cv2.imwrite('gray_pic.png', gray_pic) # Save the above picture.\n",
    "invert_pic=cv2.bitwise_not(gray_pic) # Inverted image\n",
    "cv2.imwrite('invert_pic.png', invert_pic) # Save the above picture.\n",
    "blur_pic=cv2.GaussianBlur(invert_pic, (111,111), 0) # bluring process\n",
    "invblur_pic=cv2.bitwise_not(blur_pic) # Inverted blur image \n",
    "pencil_sketch=cv2.divide(gray_pic,invblur_pic, scale=256.0) # Pencil sketch image.\n",
    "cv2.imwrite('pencil_sketch.png', pencil_sketch) # Save the above picture."
   ]
  },
  {
   "cell_type": "code",
   "execution_count": 25,
   "id": "92e4cf53",
   "metadata": {},
   "outputs": [
    {
     "data": {
      "text/plain": [
       "(-0.5, 4999.5, 2999.5, -0.5)"
      ]
     },
     "execution_count": 25,
     "metadata": {},
     "output_type": "execute_result"
    },
    {
     "data": {
      "image/png": "[encoded data removed]",
      "text/plain": [
       "<Figure size 432x288 with 1 Axes>"
      ]
     },
     "metadata": {
      "needs_background": "light"
     },
     "output_type": "display_data"
    }
   ],
   "source": [
    "plt.subplot(1,4,1)\n",
    "plt.title('Original picture', size=15)\n",
    "plt.imshow(RGB_pic)\n",
    "plt.axis('off')"
   ]
  },
  {
   "cell_type": "code",
   "execution_count": 26,
   "id": "ef27f2bb",
   "metadata": {},
   "outputs": [
    {
     "data": {
      "text/plain": [
       "(-0.5, 4999.5, 2999.5, -0.5)"
      ]
     },
     "execution_count": 26,
     "metadata": {},
     "output_type": "execute_result"
    },
    {
     "data": {
      "image/png": "[encoded data removed]",
      "text/plain": [
       "<Figure size 432x288 with 1 Axes>"
      ]
     },
     "metadata": {
      "needs_background": "light"
     },
     "output_type": "display_data"
    }
   ],
   "source": [
    "plt.subplot(1,4,2)\n",
    "plt.title('Black & White picture', size=15)\n",
    "rgb_sketch=cv2.cvtColor(gray_pic, cv2.COLOR_BGR2RGB)\n",
    "plt.imshow(rgb_sketch)\n",
    "plt.axis('off')"
   ]
  },
  {
   "cell_type": "code",
   "execution_count": 27,
   "id": "f8fe5df1",
   "metadata": {},
   "outputs": [
    {
     "data": {
      "text/plain": [
       "(-0.5, 4999.5, 2999.5, -0.5)"
      ]
     },
     "execution_count": 27,
     "metadata": {},
     "output_type": "execute_result"
    },
    {
     "data": {
      "image/png": "[encoded data removed]",
      "text/plain": [
       "<Figure size 432x288 with 1 Axes>"
      ]
     },
     "metadata": {
      "needs_background": "light"
     },
     "output_type": "display_data"
    }
   ],
   "source": [
    "plt.subplot(1,4,3)\n",
    "plt.title('Sketched picture', size=15)\n",
    "rgb_sketch=cv2.cvtColor(pencil_sketch, cv2.COLOR_BGR2RGB)\n",
    "plt.imshow(rgb_sketch)\n",
    "plt.axis('off')"
   ]
  },
  {
   "cell_type": "code",
   "execution_count": 28,
   "id": "d439b35f",
   "metadata": {},
   "outputs": [
    {
     "data": {
      "image/png": "[encoded data removed]",
      "text/plain": [
       "<Figure size 432x288 with 1 Axes>"
      ]
     },
     "metadata": {
      "needs_background": "light"
     },
     "output_type": "display_data"
    }
   ],
   "source": [
    "plt.subplot(1,4,4)\n",
    "plt.title('Blue Faced picture', size=15)\n",
    "plt.imshow(pic,cmap=\"gray\")\n",
    "plt.axis(\"off\")\n",
    "\n",
    "plt.show()"
   ]
  },
  {
   "cell_type": "code",
   "execution_count": null,
   "id": "5725a813",
   "metadata": {},
   "outputs": [],
   "source": []
  }
 ],
 "metadata": {
  "kernelspec": {
   "display_name": "Python 3 (ipykernel)",
   "language": "python",
   "name": "python3"
  },
  "language_info": {
   "codemirror_mode": {
    "name": "ipython",
    "version": 3
   },
   "file_extension": ".py",
   "mimetype": "text/x-python",
   "name": "python",
   "nbconvert_exporter": "python",
   "pygments_lexer": "ipython3",
   "version": "3.9.7"
  }
 },
 "nbformat": 4,
 "nbformat_minor": 5
}
